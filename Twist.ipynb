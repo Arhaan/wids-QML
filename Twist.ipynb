{
 "cells": [
  {
   "cell_type": "code",
   "execution_count": 1,
   "id": "887d51a5",
   "metadata": {},
   "outputs": [
    {
     "name": "stdout",
     "output_type": "stream",
     "text": [
      "None\n"
     ]
    }
   ],
   "source": [
    "#! /usr/bin/python3\n",
    "\n",
    "import sys\n",
    "from pennylane import numpy as np\n",
    "import pennylane as qml\n",
    "\n",
    "\n",
    "def deutsch_jozsa(fs):\n",
    "    \"\"\"Function that determines whether four given functions are all of the same type or not.\n",
    "\n",
    "    Args:\n",
    "        - fs (list(function)): A list of 4 quantum functions. Each of them will accept a 'wires' parameter.\n",
    "        The first two wires refer to the input and the third to the output of the function.\n",
    "\n",
    "    Returns:\n",
    "        - (str) : \"4 same\" or \"2 and 2\"\n",
    "    \"\"\"\n",
    "\n",
    "    # QHACK #\n",
    "    \n",
    "    # QHACK #\n",
    "\n",
    "\n",
    "numbers = [0,0,1,1,0,0,1,1]\n",
    "\n",
    "# Definition of the four oracles we will work with.\n",
    "\n",
    "def f1(wires):\n",
    "    qml.CNOT(wires=[wires[numbers[0]], wires[2]])\n",
    "    qml.CNOT(wires=[wires[numbers[1]], wires[2]])\n",
    "\n",
    "def f2(wires):\n",
    "    qml.CNOT(wires=[wires[numbers[2]], wires[2]])\n",
    "    qml.CNOT(wires=[wires[numbers[3]], wires[2]])\n",
    "\n",
    "def f3(wires):\n",
    "    qml.CNOT(wires=[wires[numbers[4]], wires[2]])\n",
    "    qml.CNOT(wires=[wires[numbers[5]], wires[2]])\n",
    "    qml.PauliX(wires=wires[2])\n",
    "\n",
    "def f4(wires):\n",
    "    qml.CNOT(wires=[wires[numbers[6]], wires[2]])\n",
    "    qml.CNOT(wires=[wires[numbers[7]], wires[2]])\n",
    "    qml.PauliX(wires=wires[2])\n",
    "\n",
    "output = deutsch_jozsa([f1, f2, f3, f4])\n",
    "print(f\"{output}\")"
   ]
  }
 ],
 "metadata": {
  "kernelspec": {
   "display_name": "qiqc",
   "language": "python",
   "name": "qiqc"
  },
  "language_info": {
   "codemirror_mode": {
    "name": "ipython",
    "version": 3
   },
   "file_extension": ".py",
   "mimetype": "text/x-python",
   "name": "python",
   "nbconvert_exporter": "python",
   "pygments_lexer": "ipython3",
   "version": "3.10.8"
  }
 },
 "nbformat": 4,
 "nbformat_minor": 5
}
