{
 "cells": [
  {
   "cell_type": "markdown",
   "id": "052ccaff",
   "metadata": {},
   "source": [
    "Fiven a Boolean function, $f: {0,1}^n \\longrightarrow {0,1}$ and the knowledge that the function is either constant or balanced. The task is to determine whether $f$ is constant or balanced."
   ]
  },
  {
   "cell_type": "markdown",
   "id": "ac358b36",
   "metadata": {},
   "source": [
    "# Classical Deterministic\n",
    "Evaluate $f$ one by one for every element in ${0,1}^n$ in the hopes that you will get a different result for some input. If you find two elements such that $f(x) \\neq f(y)$ then the function is balanced, else it is constant.\n",
    "\n",
    "## Time Complexity\n",
    "$\\mathcal{O}(2^n)$"
   ]
  },
  {
   "cell_type": "markdown",
   "id": "468a8aaf",
   "metadata": {},
   "source": [
    "# Quantum\n",
    "\n",
    "Since $f$ might be irreversible, it must be implemented as a quantum oracle $U_f$,\n",
    "$$U_f |{x}\\rangle|y\\rangle = |{x}\\rangle|y \\oplus f(x)\\rangle$$\n",
    "\n",
    "I'll be working with x as 2 qubit system only. \n",
    "\n",
    "For simplicity, let's first take $f(x) = 1 \\, \\forall x$\n",
    "\n",
    "The oracle for this will just apply not on the third qubit. I'll store this oracle in variable `oracle1`.\n",
    "\n",
    "The second oracle is the uniform oracle, which is equal to 1, iff the second bit is 1. This is in `oracle2`"
   ]
  },
  {
   "cell_type": "code",
   "execution_count": 35,
   "id": "dec12898",
   "metadata": {},
   "outputs": [
    {
     "data": {
      "text/html": [
       "<pre style=\"word-wrap: normal;white-space: pre;background: #fff0;line-height: 1.1;font-family: &quot;Courier New&quot;,Courier,monospace\">        ┌───┐     ┌──────────────┐┌───┐ ░ ┌─┐      \n",
       "   q_0: ┤ H ├─────┤0             ├┤ H ├─░─┤M├──────\n",
       "        ├───┤     │              │├───┤ ░ └╥┘┌─┐   \n",
       "   q_1: ┤ H ├─────┤1 circuit-264 ├┤ H ├─░──╫─┤M├───\n",
       "        ├───┤┌───┐│              │└───┘ ░  ║ └╥┘┌─┐\n",
       "   q_2: ┤ X ├┤ H ├┤2             ├──────░──╫──╫─┤M├\n",
       "        └───┘└───┘└──────────────┘      ░  ║  ║ └╥┘\n",
       "   c: 1/═══════════════════════════════════╬══╬══╬═\n",
       "                                           ║  ║  ║ \n",
       "meas: 3/═══════════════════════════════════╩══╩══╩═\n",
       "                                           0  1  2 </pre>"
      ],
      "text/plain": [
       "        ┌───┐     ┌──────────────┐┌───┐ ░ ┌─┐      \n",
       "   q_0: ┤ H ├─────┤0             ├┤ H ├─░─┤M├──────\n",
       "        ├───┤     │              │├───┤ ░ └╥┘┌─┐   \n",
       "   q_1: ┤ H ├─────┤1 circuit-264 ├┤ H ├─░──╫─┤M├───\n",
       "        ├───┤┌───┐│              │└───┘ ░  ║ └╥┘┌─┐\n",
       "   q_2: ┤ X ├┤ H ├┤2             ├──────░──╫──╫─┤M├\n",
       "        └───┘└───┘└──────────────┘      ░  ║  ║ └╥┘\n",
       "   c: 1/═══════════════════════════════════╬══╬══╬═\n",
       "                                           ║  ║  ║ \n",
       "meas: 3/═══════════════════════════════════╩══╩══╩═\n",
       "                                           0  1  2 "
      ]
     },
     "execution_count": 35,
     "metadata": {},
     "output_type": "execute_result"
    }
   ],
   "source": [
    "from qiskit import QuantumCircuit, QuantumRegister\n",
    "from qiskit import Aer\n",
    "from qiskit.visualization import plot_histogram\n",
    "from math import sqrt\n",
    "\n",
    "import matplotlib\n",
    "oracle1 = QuantumCircuit(3) # Constant\n",
    "oracle1.x(2)\n",
    "\n",
    "oracle1.draw()\n",
    "oracle2 = QuantumCircuit(3) #uniform\n",
    "\n",
    "oracle2.cx(1,2)\n",
    "oracle2.draw()\n",
    "\n",
    "uniformOracle = oracle1.to_instruction()\n",
    "qc = QuantumCircuit(3, 1)\n",
    "qc.h([0,1])\n",
    "qc.x(2)\n",
    "qc.h(2)\n",
    "qc.append(uniformOracle, [0,1,2])\n",
    "qc.h([0,1])\n",
    "\n",
    "qc.measure_all()\n",
    "qc.draw()\n"
   ]
  },
  {
   "cell_type": "markdown",
   "id": "b769048f",
   "metadata": {},
   "source": [
    "Originally, we are in the state \n",
    "$$C\\times \\left(|000\\rangle + |001\\rangle +  |010\\rangle + |011\\rangle - |100\\rangle - |101\\rangle - |110\\rangle -|111\\rangle \\right) $$\n",
    "\n",
    "We apply the oracle to get \n",
    "$$C\\times \\left(|f(00)00\\rangle + |f(01)01\\rangle +  |f(10)10\\rangle + |f(11)11\\rangle - |f(00)00\\rangle - |f(01)01\\rangle - |f(10)10\\rangle -|f(11)11\\rangle \\right)$$\n",
    "\n",
    "Now we apply the hadamard transform on the first 2 bits to get\n",
    "$$C\\times \\left(|f(00)\\rangle(|00\\rangle + |01\\rangle + |10\\rangle + |11\\rangle) + |f(01)\\rangle (|00\\rangle -|01\\rangle + |10\\rangle - |11\\rangle) +  |f(10)\\rangle (|00\\rangle + |01\\rangle - |10\\rangle - |11\\rangle) + |f(11)\\rangle - |f(00)\\rangle - |f(01)\\rangle - |f(10)\\rangle -|f(11)\\rangle \\right)$$"
   ]
  },
  {
   "cell_type": "code",
   "execution_count": 36,
   "id": "5b87bcd9",
   "metadata": {},
   "outputs": [
    {
     "data": {
      "image/png": "[encoded data removed]",
      "text/plain": [
       "<Figure size 700x500 with 1 Axes>"
      ]
     },
     "execution_count": 36,
     "metadata": {},
     "output_type": "execute_result"
    }
   ],
   "source": [
    "aer_sim = Aer.get_backend('aer_simulator')\n",
    "job = aer_sim.run(qc.decompose(), shots=1000)\n",
    "hist = job.result().get_counts()\n",
    "\n",
    "plot_histogram(hist)\n"
   ]
  }
 ],
 "metadata": {
  "kernelspec": {
   "display_name": "qiqc",
   "language": "python",
   "name": "qiqc"
  },
  "language_info": {
   "codemirror_mode": {
    "name": "ipython",
    "version": 3
   },
   "file_extension": ".py",
   "mimetype": "text/x-python",
   "name": "python",
   "nbconvert_exporter": "python",
   "pygments_lexer": "ipython3",
   "version": "3.10.8"
  }
 },
 "nbformat": 4,
 "nbformat_minor": 5
}
